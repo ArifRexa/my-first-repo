{
  "nbformat": 4,
  "nbformat_minor": 0,
  "metadata": {
    "colab": {
      "provenance": []
    },
    "kernelspec": {
      "name": "python3",
      "display_name": "Python 3"
    },
    "language_info": {
      "name": "python"
    }
  },
  "cells": [
    {
      "cell_type": "markdown",
      "source": [
        "# 1. Introduction to Pandas\n",
        "Pandas is a Python library for data manipulation and analysis. It provides two main data structures:\n",
        "\n",
        "*   Series: 1D labeled array (like a column in a table).\n",
        "*   DataFrame: 2D labeled data structure (like a table with rows and columns)."
      ],
      "metadata": {
        "id": "Dh4OHdIzZX2R"
      }
    },
    {
      "cell_type": "markdown",
      "source": [
        "# 2. Installation\n",
        "If you haven't installed Pandas, you can do so using pip:\n",
        "\n",
        "`pip install pandas`"
      ],
      "metadata": {
        "id": "KX4V3jX0Zk0p"
      }
    },
    {
      "cell_type": "markdown",
      "source": [
        "# 3. Importing Pandas\n",
        "Start by importing the library:\n"
      ],
      "metadata": {
        "id": "rAZPUay-WYbS"
      }
    },
    {
      "cell_type": "code",
      "execution_count": 1,
      "metadata": {
        "id": "xQUWUPT7VMtb"
      },
      "outputs": [],
      "source": [
        "import pandas as pd"
      ]
    },
    {
      "cell_type": "markdown",
      "source": [
        "# 4. Pandas Series\n",
        "A Series is a one-dimensional array-like object.\n",
        "\n",
        "## **a. Creating a Series**"
      ],
      "metadata": {
        "id": "C0AzU7E0Wjp4"
      }
    },
    {
      "cell_type": "code",
      "source": [
        "data = [10, 20, 30, 40]\n",
        "s = pd.Series(data)\n",
        "print(s)"
      ],
      "metadata": {
        "colab": {
          "base_uri": "https://localhost:8080/"
        },
        "id": "oj1XUamgVee4",
        "outputId": "a9972d03-1593-4c6b-8626-e2f5fee5855f"
      },
      "execution_count": 2,
      "outputs": [
        {
          "output_type": "stream",
          "name": "stdout",
          "text": [
            "0    10\n",
            "1    20\n",
            "2    30\n",
            "3    40\n",
            "dtype: int64\n"
          ]
        }
      ]
    },
    {
      "cell_type": "markdown",
      "source": [
        "## **b. Accessing Elements**"
      ],
      "metadata": {
        "id": "7EzunxM0Wwvx"
      }
    },
    {
      "cell_type": "code",
      "source": [
        "print(s[0])  # Output: 10"
      ],
      "metadata": {
        "colab": {
          "base_uri": "https://localhost:8080/"
        },
        "id": "DFxU9fq_VmGY",
        "outputId": "9c5d828e-04b3-4ed3-83be-d13b8feca674"
      },
      "execution_count": 3,
      "outputs": [
        {
          "output_type": "stream",
          "name": "stdout",
          "text": [
            "10\n"
          ]
        }
      ]
    },
    {
      "cell_type": "markdown",
      "source": [
        "## **c. Series Attributes**"
      ],
      "metadata": {
        "id": "nRKJGsNaWzGQ"
      }
    },
    {
      "cell_type": "code",
      "source": [
        "print(s.index)  # Output: RangeIndex(start=0, stop=4, step=1)\n",
        "print(s.values) # Output: [10 20 30 40]"
      ],
      "metadata": {
        "colab": {
          "base_uri": "https://localhost:8080/"
        },
        "id": "Le34OTn0VqLB",
        "outputId": "b7607bec-520d-4be9-e382-0d5437ce0a40"
      },
      "execution_count": 4,
      "outputs": [
        {
          "output_type": "stream",
          "name": "stdout",
          "text": [
            "RangeIndex(start=0, stop=4, step=1)\n",
            "[10 20 30 40]\n"
          ]
        }
      ]
    },
    {
      "cell_type": "markdown",
      "source": [
        "# 5. Pandas DataFrame\n",
        "A DataFrame is a 2D data structure with rows and columns.\n",
        "\n",
        "## **a. Creating a DataFrame**"
      ],
      "metadata": {
        "id": "ivkfP2lqV-GI"
      }
    },
    {
      "cell_type": "code",
      "source": [
        "data = {\n",
        "    'Name': ['Alice', 'Bob', 'Charlie'],\n",
        "    'Age': [25, 30, 35],\n",
        "    'City': ['New York', 'Los Angeles', 'Chicago']\n",
        "}\n",
        "df = pd.DataFrame(data)\n",
        "print(df)"
      ],
      "metadata": {
        "colab": {
          "base_uri": "https://localhost:8080/"
        },
        "id": "Ybqtaz7VWBvA",
        "outputId": "e7bf5f70-2517-4247-e961-2faf8e220908"
      },
      "execution_count": 5,
      "outputs": [
        {
          "output_type": "stream",
          "name": "stdout",
          "text": [
            "      Name  Age         City\n",
            "0    Alice   25     New York\n",
            "1      Bob   30  Los Angeles\n",
            "2  Charlie   35      Chicago\n"
          ]
        }
      ]
    },
    {
      "cell_type": "markdown",
      "source": [
        "## **b. Accessing Columns**"
      ],
      "metadata": {
        "id": "ViACVRBnXGdo"
      }
    },
    {
      "cell_type": "code",
      "source": [
        "print(df['Name'])  # Access the 'Name' column"
      ],
      "metadata": {
        "colab": {
          "base_uri": "https://localhost:8080/"
        },
        "id": "I3dUYtapXIcg",
        "outputId": "2ccbb40b-f9c0-4423-9d0c-63d5300a5bef"
      },
      "execution_count": 6,
      "outputs": [
        {
          "output_type": "stream",
          "name": "stdout",
          "text": [
            "0      Alice\n",
            "1        Bob\n",
            "2    Charlie\n",
            "Name: Name, dtype: object\n"
          ]
        }
      ]
    },
    {
      "cell_type": "markdown",
      "source": [
        "## **c. Accessing Rows**"
      ],
      "metadata": {
        "id": "4Rdr41G_XPXQ"
      }
    },
    {
      "cell_type": "code",
      "source": [
        "print(df.iloc[0])  # Access the first row"
      ],
      "metadata": {
        "colab": {
          "base_uri": "https://localhost:8080/"
        },
        "id": "jj0FJaF9XRIY",
        "outputId": "ede9a258-cd73-4931-daf7-9b2edba3cc52"
      },
      "execution_count": 8,
      "outputs": [
        {
          "output_type": "stream",
          "name": "stdout",
          "text": [
            "Name       Alice\n",
            "Age           25\n",
            "City    New York\n",
            "Name: 0, dtype: object\n"
          ]
        }
      ]
    },
    {
      "cell_type": "markdown",
      "source": [
        "## **d. DataFrame Attributes**"
      ],
      "metadata": {
        "id": "pN6XLkO7XZT4"
      }
    },
    {
      "cell_type": "code",
      "source": [
        "print(df.columns)  # Output: Index(['Name', 'Age', 'City'], dtype='object')\n",
        "print(df.index)    # Output: RangeIndex(start=0, stop=3, step=1)\n",
        "print(df.shape)    # Output: (3, 3)\n",
        "print(df.dtypes)   # Output: Name: object, Age: int64, City: object"
      ],
      "metadata": {
        "colab": {
          "base_uri": "https://localhost:8080/"
        },
        "id": "oTZ2YhW3XbKw",
        "outputId": "94156ef6-5cb1-4d9a-b645-95729aebbf34"
      },
      "execution_count": 9,
      "outputs": [
        {
          "output_type": "stream",
          "name": "stdout",
          "text": [
            "Index(['Name', 'Age', 'City'], dtype='object')\n",
            "RangeIndex(start=0, stop=3, step=1)\n",
            "(3, 3)\n",
            "Name    object\n",
            "Age      int64\n",
            "City    object\n",
            "dtype: object\n"
          ]
        }
      ]
    },
    {
      "cell_type": "markdown",
      "source": [
        "# 6. Basic Operations\n",
        "## **a. Reading Data**"
      ],
      "metadata": {
        "id": "YmwFjwSxXmi4"
      }
    },
    {
      "cell_type": "code",
      "source": [
        "df = pd.read_csv('data.csv')  # Read a CSV file\n",
        "df = pd.read_excel('data.xlsx')  # Read an Excel file"
      ],
      "metadata": {
        "colab": {
          "base_uri": "https://localhost:8080/",
          "height": 304
        },
        "collapsed": true,
        "id": "kBfa_mJpXoCQ",
        "outputId": "803cfb22-b7b1-4b1b-d724-e0b351677b82"
      },
      "execution_count": 10,
      "outputs": [
        {
          "output_type": "error",
          "ename": "FileNotFoundError",
          "evalue": "[Errno 2] No such file or directory: 'data.csv'",
          "traceback": [
            "\u001b[0;31m---------------------------------------------------------------------------\u001b[0m",
            "\u001b[0;31mFileNotFoundError\u001b[0m                         Traceback (most recent call last)",
            "\u001b[0;32m<ipython-input-10-78a3195416ba>\u001b[0m in \u001b[0;36m<cell line: 0>\u001b[0;34m()\u001b[0m\n\u001b[0;32m----> 1\u001b[0;31m \u001b[0mdf\u001b[0m \u001b[0;34m=\u001b[0m \u001b[0mpd\u001b[0m\u001b[0;34m.\u001b[0m\u001b[0mread_csv\u001b[0m\u001b[0;34m(\u001b[0m\u001b[0;34m'data.csv'\u001b[0m\u001b[0;34m)\u001b[0m  \u001b[0;31m# Read a CSV file\u001b[0m\u001b[0;34m\u001b[0m\u001b[0;34m\u001b[0m\u001b[0m\n\u001b[0m\u001b[1;32m      2\u001b[0m \u001b[0mdf\u001b[0m \u001b[0;34m=\u001b[0m \u001b[0mpd\u001b[0m\u001b[0;34m.\u001b[0m\u001b[0mread_excel\u001b[0m\u001b[0;34m(\u001b[0m\u001b[0;34m'data.xlsx'\u001b[0m\u001b[0;34m)\u001b[0m  \u001b[0;31m# Read an Excel file\u001b[0m\u001b[0;34m\u001b[0m\u001b[0;34m\u001b[0m\u001b[0m\n",
            "\u001b[0;32m/usr/local/lib/python3.11/dist-packages/pandas/io/parsers/readers.py\u001b[0m in \u001b[0;36mread_csv\u001b[0;34m(filepath_or_buffer, sep, delimiter, header, names, index_col, usecols, dtype, engine, converters, true_values, false_values, skipinitialspace, skiprows, skipfooter, nrows, na_values, keep_default_na, na_filter, verbose, skip_blank_lines, parse_dates, infer_datetime_format, keep_date_col, date_parser, date_format, dayfirst, cache_dates, iterator, chunksize, compression, thousands, decimal, lineterminator, quotechar, quoting, doublequote, escapechar, comment, encoding, encoding_errors, dialect, on_bad_lines, delim_whitespace, low_memory, memory_map, float_precision, storage_options, dtype_backend)\u001b[0m\n\u001b[1;32m   1024\u001b[0m     \u001b[0mkwds\u001b[0m\u001b[0;34m.\u001b[0m\u001b[0mupdate\u001b[0m\u001b[0;34m(\u001b[0m\u001b[0mkwds_defaults\u001b[0m\u001b[0;34m)\u001b[0m\u001b[0;34m\u001b[0m\u001b[0;34m\u001b[0m\u001b[0m\n\u001b[1;32m   1025\u001b[0m \u001b[0;34m\u001b[0m\u001b[0m\n\u001b[0;32m-> 1026\u001b[0;31m     \u001b[0;32mreturn\u001b[0m \u001b[0m_read\u001b[0m\u001b[0;34m(\u001b[0m\u001b[0mfilepath_or_buffer\u001b[0m\u001b[0;34m,\u001b[0m \u001b[0mkwds\u001b[0m\u001b[0;34m)\u001b[0m\u001b[0;34m\u001b[0m\u001b[0;34m\u001b[0m\u001b[0m\n\u001b[0m\u001b[1;32m   1027\u001b[0m \u001b[0;34m\u001b[0m\u001b[0m\n\u001b[1;32m   1028\u001b[0m \u001b[0;34m\u001b[0m\u001b[0m\n",
            "\u001b[0;32m/usr/local/lib/python3.11/dist-packages/pandas/io/parsers/readers.py\u001b[0m in \u001b[0;36m_read\u001b[0;34m(filepath_or_buffer, kwds)\u001b[0m\n\u001b[1;32m    618\u001b[0m \u001b[0;34m\u001b[0m\u001b[0m\n\u001b[1;32m    619\u001b[0m     \u001b[0;31m# Create the parser.\u001b[0m\u001b[0;34m\u001b[0m\u001b[0;34m\u001b[0m\u001b[0m\n\u001b[0;32m--> 620\u001b[0;31m     \u001b[0mparser\u001b[0m \u001b[0;34m=\u001b[0m \u001b[0mTextFileReader\u001b[0m\u001b[0;34m(\u001b[0m\u001b[0mfilepath_or_buffer\u001b[0m\u001b[0;34m,\u001b[0m \u001b[0;34m**\u001b[0m\u001b[0mkwds\u001b[0m\u001b[0;34m)\u001b[0m\u001b[0;34m\u001b[0m\u001b[0;34m\u001b[0m\u001b[0m\n\u001b[0m\u001b[1;32m    621\u001b[0m \u001b[0;34m\u001b[0m\u001b[0m\n\u001b[1;32m    622\u001b[0m     \u001b[0;32mif\u001b[0m \u001b[0mchunksize\u001b[0m \u001b[0;32mor\u001b[0m \u001b[0miterator\u001b[0m\u001b[0;34m:\u001b[0m\u001b[0;34m\u001b[0m\u001b[0;34m\u001b[0m\u001b[0m\n",
            "\u001b[0;32m/usr/local/lib/python3.11/dist-packages/pandas/io/parsers/readers.py\u001b[0m in \u001b[0;36m__init__\u001b[0;34m(self, f, engine, **kwds)\u001b[0m\n\u001b[1;32m   1618\u001b[0m \u001b[0;34m\u001b[0m\u001b[0m\n\u001b[1;32m   1619\u001b[0m         \u001b[0mself\u001b[0m\u001b[0;34m.\u001b[0m\u001b[0mhandles\u001b[0m\u001b[0;34m:\u001b[0m \u001b[0mIOHandles\u001b[0m \u001b[0;34m|\u001b[0m \u001b[0;32mNone\u001b[0m \u001b[0;34m=\u001b[0m \u001b[0;32mNone\u001b[0m\u001b[0;34m\u001b[0m\u001b[0;34m\u001b[0m\u001b[0m\n\u001b[0;32m-> 1620\u001b[0;31m         \u001b[0mself\u001b[0m\u001b[0;34m.\u001b[0m\u001b[0m_engine\u001b[0m \u001b[0;34m=\u001b[0m \u001b[0mself\u001b[0m\u001b[0;34m.\u001b[0m\u001b[0m_make_engine\u001b[0m\u001b[0;34m(\u001b[0m\u001b[0mf\u001b[0m\u001b[0;34m,\u001b[0m \u001b[0mself\u001b[0m\u001b[0;34m.\u001b[0m\u001b[0mengine\u001b[0m\u001b[0;34m)\u001b[0m\u001b[0;34m\u001b[0m\u001b[0;34m\u001b[0m\u001b[0m\n\u001b[0m\u001b[1;32m   1621\u001b[0m \u001b[0;34m\u001b[0m\u001b[0m\n\u001b[1;32m   1622\u001b[0m     \u001b[0;32mdef\u001b[0m \u001b[0mclose\u001b[0m\u001b[0;34m(\u001b[0m\u001b[0mself\u001b[0m\u001b[0;34m)\u001b[0m \u001b[0;34m->\u001b[0m \u001b[0;32mNone\u001b[0m\u001b[0;34m:\u001b[0m\u001b[0;34m\u001b[0m\u001b[0;34m\u001b[0m\u001b[0m\n",
            "\u001b[0;32m/usr/local/lib/python3.11/dist-packages/pandas/io/parsers/readers.py\u001b[0m in \u001b[0;36m_make_engine\u001b[0;34m(self, f, engine)\u001b[0m\n\u001b[1;32m   1878\u001b[0m                 \u001b[0;32mif\u001b[0m \u001b[0;34m\"b\"\u001b[0m \u001b[0;32mnot\u001b[0m \u001b[0;32min\u001b[0m \u001b[0mmode\u001b[0m\u001b[0;34m:\u001b[0m\u001b[0;34m\u001b[0m\u001b[0;34m\u001b[0m\u001b[0m\n\u001b[1;32m   1879\u001b[0m                     \u001b[0mmode\u001b[0m \u001b[0;34m+=\u001b[0m \u001b[0;34m\"b\"\u001b[0m\u001b[0;34m\u001b[0m\u001b[0;34m\u001b[0m\u001b[0m\n\u001b[0;32m-> 1880\u001b[0;31m             self.handles = get_handle(\n\u001b[0m\u001b[1;32m   1881\u001b[0m                 \u001b[0mf\u001b[0m\u001b[0;34m,\u001b[0m\u001b[0;34m\u001b[0m\u001b[0;34m\u001b[0m\u001b[0m\n\u001b[1;32m   1882\u001b[0m                 \u001b[0mmode\u001b[0m\u001b[0;34m,\u001b[0m\u001b[0;34m\u001b[0m\u001b[0;34m\u001b[0m\u001b[0m\n",
            "\u001b[0;32m/usr/local/lib/python3.11/dist-packages/pandas/io/common.py\u001b[0m in \u001b[0;36mget_handle\u001b[0;34m(path_or_buf, mode, encoding, compression, memory_map, is_text, errors, storage_options)\u001b[0m\n\u001b[1;32m    871\u001b[0m         \u001b[0;32mif\u001b[0m \u001b[0mioargs\u001b[0m\u001b[0;34m.\u001b[0m\u001b[0mencoding\u001b[0m \u001b[0;32mand\u001b[0m \u001b[0;34m\"b\"\u001b[0m \u001b[0;32mnot\u001b[0m \u001b[0;32min\u001b[0m \u001b[0mioargs\u001b[0m\u001b[0;34m.\u001b[0m\u001b[0mmode\u001b[0m\u001b[0;34m:\u001b[0m\u001b[0;34m\u001b[0m\u001b[0;34m\u001b[0m\u001b[0m\n\u001b[1;32m    872\u001b[0m             \u001b[0;31m# Encoding\u001b[0m\u001b[0;34m\u001b[0m\u001b[0;34m\u001b[0m\u001b[0m\n\u001b[0;32m--> 873\u001b[0;31m             handle = open(\n\u001b[0m\u001b[1;32m    874\u001b[0m                 \u001b[0mhandle\u001b[0m\u001b[0;34m,\u001b[0m\u001b[0;34m\u001b[0m\u001b[0;34m\u001b[0m\u001b[0m\n\u001b[1;32m    875\u001b[0m                 \u001b[0mioargs\u001b[0m\u001b[0;34m.\u001b[0m\u001b[0mmode\u001b[0m\u001b[0;34m,\u001b[0m\u001b[0;34m\u001b[0m\u001b[0;34m\u001b[0m\u001b[0m\n",
            "\u001b[0;31mFileNotFoundError\u001b[0m: [Errno 2] No such file or directory: 'data.csv'"
          ]
        }
      ]
    },
    {
      "cell_type": "markdown",
      "source": [
        "## **b. Viewing Data**\n"
      ],
      "metadata": {
        "id": "g-PTygZvX7LR"
      }
    },
    {
      "cell_type": "code",
      "source": [
        "print(df.head())  # First 5 rows\n",
        "print(df.tail())  # Last 5 rows\n",
        "print(df.info())  # Summary of the DataFrame\n",
        "print(df.describe())  # Statistical summary"
      ],
      "metadata": {
        "id": "n9oTaVbEX9Gp"
      },
      "execution_count": null,
      "outputs": []
    },
    {
      "cell_type": "markdown",
      "source": [
        "## **c. Filtering Data**"
      ],
      "metadata": {
        "id": "ZXX05R8MX_fg"
      }
    },
    {
      "cell_type": "code",
      "source": [
        "# Filter rows where Age > 30\n",
        "filtered_df = df[df['Age'] > 30]\n",
        "print(filtered_df)"
      ],
      "metadata": {
        "id": "m3r1S2bbYDPw"
      },
      "execution_count": null,
      "outputs": []
    },
    {
      "cell_type": "markdown",
      "source": [
        "## **d. Adding a Column**"
      ],
      "metadata": {
        "id": "Hr8jldoyYGhY"
      }
    },
    {
      "cell_type": "code",
      "source": [
        "df['Salary'] = [50000, 60000, 70000]\n",
        "print(df)"
      ],
      "metadata": {
        "id": "L8ag2yJIYJag"
      },
      "execution_count": null,
      "outputs": []
    },
    {
      "cell_type": "markdown",
      "source": [
        "## **e. Dropping a Column**"
      ],
      "metadata": {
        "id": "0QmFXmWLYShQ"
      }
    },
    {
      "cell_type": "code",
      "source": [
        "df = df.drop('Salary', axis=1)\n",
        "print(df)"
      ],
      "metadata": {
        "id": "M0D5HwY6YT9H"
      },
      "execution_count": null,
      "outputs": []
    },
    {
      "cell_type": "markdown",
      "source": [
        "# 7. Advanced Operations\n",
        "## **a. Grouping Data**"
      ],
      "metadata": {
        "id": "QKxEPRTgYWD4"
      }
    },
    {
      "cell_type": "code",
      "source": [
        "grouped = df.groupby('City').mean()\n",
        "print(grouped)"
      ],
      "metadata": {
        "id": "kEgvH-Q0YcJo"
      },
      "execution_count": null,
      "outputs": []
    },
    {
      "cell_type": "markdown",
      "source": [
        "## **b. Merging DataFrames**\n"
      ],
      "metadata": {
        "id": "0TBZN2_bYfLg"
      }
    },
    {
      "cell_type": "code",
      "source": [
        "df1 = pd.DataFrame({'A': ['A0', 'A1'], 'B': ['B0', 'B1']})\n",
        "df2 = pd.DataFrame({'A': ['A2', 'A3'], 'B': ['B2', 'B3']})\n",
        "merged_df = pd.concat([df1, df2])\n",
        "print(merged_df)"
      ],
      "metadata": {
        "id": "wRQrr-jVYgmY"
      },
      "execution_count": null,
      "outputs": []
    },
    {
      "cell_type": "markdown",
      "source": [
        "## **c. Pivot Tables**\n"
      ],
      "metadata": {
        "id": "U7yvnlChYjaw"
      }
    },
    {
      "cell_type": "code",
      "source": [
        "pivot = df.pivot_table(values='Age', index='City', aggfunc='mean')\n",
        "print(pivot)"
      ],
      "metadata": {
        "id": "BajXDAjcYnBQ"
      },
      "execution_count": null,
      "outputs": []
    },
    {
      "cell_type": "markdown",
      "source": [
        "## **d. Handling Missing Data**\n"
      ],
      "metadata": {
        "id": "h3Te_by1YpXY"
      }
    },
    {
      "cell_type": "code",
      "source": [
        "df['Age'].fillna(0, inplace=True)  # Fill missing values with 0\n",
        "df.dropna(inplace=True)  # Drop rows with missing values"
      ],
      "metadata": {
        "id": "BA3FTd8XYsag"
      },
      "execution_count": null,
      "outputs": []
    },
    {
      "cell_type": "markdown",
      "source": [
        "## **e. Applying Functions**\n"
      ],
      "metadata": {
        "id": "WAi64BNnYuXQ"
      }
    },
    {
      "cell_type": "code",
      "source": [
        "df['Age'] = df['Age'].apply(lambda x: x + 1)  # Increment age by 1\n",
        "print(df)"
      ],
      "metadata": {
        "id": "c3Co7oEzYxFQ"
      },
      "execution_count": null,
      "outputs": []
    },
    {
      "cell_type": "markdown",
      "source": [
        "# 8. Time Series Operations\n",
        "Pandas is great for working with time series data.\n",
        "\n",
        "## **a. Creating a Date Range**"
      ],
      "metadata": {
        "id": "Rt5f5QM5Y3ag"
      }
    },
    {
      "cell_type": "code",
      "source": [
        "dates = pd.date_range('20230101', periods=6)\n",
        "df = pd.DataFrame({'Date': dates, 'Value': [1, 2, 3, 4, 5, 6]})\n",
        "print(df)"
      ],
      "metadata": {
        "id": "Abi31zA4Y7XI"
      },
      "execution_count": null,
      "outputs": []
    },
    {
      "cell_type": "markdown",
      "source": [
        "## **b. Resampling**\n"
      ],
      "metadata": {
        "id": "YSQGQsHvY_cw"
      }
    },
    {
      "cell_type": "code",
      "source": [
        "df.set_index('Date', inplace=True)\n",
        "resampled = df.resample('M').mean()  # Resample by month\n",
        "print(resampled)"
      ],
      "metadata": {
        "id": "teHJz-r_ZApg"
      },
      "execution_count": null,
      "outputs": []
    },
    {
      "cell_type": "markdown",
      "source": [
        "# 9. Input/Output\n",
        "## Saving Data"
      ],
      "metadata": {
        "id": "WJhCVpg1ZECo"
      }
    },
    {
      "cell_type": "code",
      "source": [
        "df.to_csv('output.csv', index=False)  # Save to CSV\n",
        "df.to_excel('output.xlsx', index=False)  # Save to Excel"
      ],
      "metadata": {
        "id": "AeYp2-tbZGyw"
      },
      "execution_count": null,
      "outputs": []
    }
  ]
}